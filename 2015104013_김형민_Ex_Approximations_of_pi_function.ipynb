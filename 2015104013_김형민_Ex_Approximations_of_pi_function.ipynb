{
  "nbformat": 4,
  "nbformat_minor": 0,
  "metadata": {
    "colab": {
      "name": "2015104013_김형민_Ex_Approximations_of_pi_function.ipynb의 사본",
      "provenance": [],
      "collapsed_sections": [],
      "include_colab_link": true
    },
    "kernelspec": {
      "display_name": "Python 3",
      "language": "python",
      "name": "python3"
    }
  },
  "cells": [
    {
      "cell_type": "markdown",
      "metadata": {
        "id": "view-in-github",
        "colab_type": "text"
      },
      "source": [
        "<a href=\"https://colab.research.google.com/github/doritos0812/Software_LAB_Class/blob/main/2015104013_%EA%B9%80%ED%98%95%EB%AF%BC_Ex_Approximations_of_pi_function.ipynb\" target=\"_parent\"><img src=\"https://colab.research.google.com/assets/colab-badge.svg\" alt=\"Open In Colab\"/></a>"
      ]
    },
    {
      "cell_type": "markdown",
      "metadata": {
        "id": "fk-IfVHq98dJ"
      },
      "source": [
        "# Ex) Approximations of $\\pi$ function"
      ]
    },
    {
      "cell_type": "markdown",
      "metadata": {
        "id": "-yURUfOt9-FT"
      },
      "source": [
        "__<div style=\"text-align: right\"> EE370: Software lab, Kyung Hee University. </div>__\n",
        "_<div style=\"text-align: right\"> Jong-Han Kim (jonghank@khu.ac.kr) </div>_\n",
        "_<div style=\"text-align: right\"> Kunwoo Park (kunwoopark@khu.ac.kr) </div>_"
      ]
    },
    {
      "cell_type": "markdown",
      "metadata": {
        "id": "2zulqqFg9-am"
      },
      "source": [
        "In our first assignment, we've worked on the prime-counting function, which we call the _$\\pi$ function_. Interestingly, there have been several trials to formalize the $\\pi$ function by using several methods, among which you can use $\\large{{x \\over {\\text{ln}x}}}$. Here are some useful inequalities for $\\pi{(x)}$ implemented by $\\large{{x \\over {\\text{ln}x}}}$.\n",
        "\n",
        "$${x \\over {\\text{ln}x}}<\\pi{(x)}<1.25506{x \\over {\\text{ln}x}}$$ \n",
        "\n",
        "for $x \\geq 17$.\n",
        "\n",
        "In this problem, you will be developing a code that plots functions which approximate $\\pi(x)$ and compare them with the original $\\pi(x)$. For those of you who didn't accomplish first assignment, here is some code for computigng $\\pi(x)$, developed by one of your classmates."
      ]
    },
    {
      "cell_type": "code",
      "metadata": {
        "id": "XofoKAHO1rc-"
      },
      "source": [
        "def Eratosthenes(n):\n",
        "  \n",
        "  prime_numbers = []\n",
        "\n",
        "  if(n < 2):\n",
        "    return prime_numbers\n",
        " \n",
        "  else:\n",
        "    consecutive_int = list((range(n+1)))\n",
        "    mark = [1 for i in range(n+1)]\n",
        "    for p in range(2, n+1):\n",
        "      if(mark[p]):\n",
        "        prime_numbers.append(consecutive_int[p])\n",
        "        for i in range(2*p, n+1, p):\n",
        "          mark[i] = 0\n",
        "      p += 1\n",
        "    return prime_numbers\n",
        "\n",
        "\n",
        "def pi(n):\n",
        "  return len(Eratosthenes(n))"
      ],
      "execution_count": null,
      "outputs": []
    },
    {
      "cell_type": "markdown",
      "metadata": {
        "id": "WXLVvpS5uBJV"
      },
      "source": [
        "<br>\n",
        "\n",
        "_**(Problem 1)**_ Compute the three functions in the above inequalities and plot the results for $x=100$ to $x=100000$ with increment to 100."
      ]
    },
    {
      "cell_type": "code",
      "metadata": {
        "id": "hr671nRv2LsZ",
        "colab": {
          "base_uri": "https://localhost:8080/",
          "height": 279
        },
        "outputId": "37c32f40-a3d4-4841-85b8-fbdf8f366378"
      },
      "source": [
        "# your code here\n",
        "import numpy as np\n",
        "import matplotlib.pyplot as plt\n",
        "x = np.arange(100,100000,100)\n",
        "p1 = x/np.log(x)\n",
        "p2=[]\n",
        "for i in x:\n",
        "  p2.append(pi(i))\n",
        "p3 = 1.25506*x/np.log(x)\n",
        "\n",
        "plt.plot(x,p1, label=r'$p_1=x/ln(x)$')\n",
        "plt.plot(x,p2, label=r'$p_2=pi(x)$')\n",
        "plt.plot(x,p3, label=r'$p_3=1.25506*x/ln(x)$')\n",
        "plt.xlabel(r'$x$')\n",
        "plt.ylabel('Response')\n",
        "plt.xlim(100,100000)\n",
        "plt.grid()\n",
        "plt.legend()\n",
        "plt.show()"
      ],
      "execution_count": null,
      "outputs": [
        {
          "output_type": "display_data",
          "data": {
            "image/png": "[encoded data removed]",
            "text/plain": [
              "<Figure size 432x288 with 1 Axes>"
            ]
          },
          "metadata": {
            "tags": [],
            "needs_background": "light"
          }
        }
      ]
    },
    {
      "cell_type": "markdown",
      "metadata": {
        "id": "0q539Di42KrY"
      },
      "source": [
        "<br>\n",
        "\n",
        "${Li(x)}$ is another function that can represent $\\pi{(x)}$ for all sufficiently large values of $x$. ${Li(x)}$ is defined as the below.\n",
        "$$\\int_{2}^{x} {1 \\over {\\text{ln}(t)}} dt$$\n",
        "You can compute numerical integration by using the `scipy` library. For example, $\\int_{0}^{1} {\\text{ln}(x^2)} dx$ can be calculated by the following code."
      ]
    },
    {
      "cell_type": "code",
      "metadata": {
        "id": "tySaNYsYPIlu",
        "colab": {
          "base_uri": "https://localhost:8080/",
          "height": 53
        },
        "outputId": "f6a4f62e-1be1-4a91-8ee4-6a2d1cead21d"
      },
      "source": [
        "from scipy.integrate import quad\n",
        "\n",
        "fx = lambda x: np.log(x**2)\n",
        "val,err=quad( fx, 0, 1 )\n",
        "print(val)\n",
        "print(err)"
      ],
      "execution_count": null,
      "outputs": [
        {
          "output_type": "stream",
          "text": [
            "-1.9999999999999998\n",
            "2.2204460492503127e-15\n"
          ],
          "name": "stdout"
        }
      ]
    },
    {
      "cell_type": "markdown",
      "metadata": {
        "id": "nopd62ZFVFhy"
      },
      "source": [
        "<br>\n",
        "\n",
        "_**(Problem 2)**_ Plot $Li(x)$ for $x=100$ to $x=100000$ with increment to 100, and compare the result from Problem 1."
      ]
    },
    {
      "cell_type": "code",
      "metadata": {
        "id": "RtFt3n8PRgRd",
        "colab": {
          "base_uri": "https://localhost:8080/",
          "height": 244
        },
        "outputId": "f76bf326-a4ce-4554-e369-9f06054920f2"
      },
      "source": [
        "# your code here\n",
        "import numpy as np\n",
        "import matplotlib.pyplot as plt\n",
        "x = np.arange(100,100000,100)\n",
        "p1 = x/np.log(x)\n",
        "p2 = []\n",
        "for i in x:\n",
        "  p2.append(pi(i))\n",
        "p3 = 1.25506*x/np.log(x)\n",
        "fx = lambda t: 1/np.log(t)\n",
        "p4 = []\n",
        "for i in x:\n",
        "  val,err=quad( fx, 2, i )\n",
        "  p4.append(val)\n",
        "plt.plot(x,p1, label=r'$p_1=x/ln(x)$')\n",
        "plt.plot(x,p2, label=r'$p_2=pi(x)$')\n",
        "plt.plot(x,p3, label=r'$p_3=1.25506*x/ln(x)$')\n",
        "plt.plot(x,p4, label=r'$p_4=Li(x)$')\n",
        "plt.xlabel(r'$x$')\n",
        "plt.ylabel('Response')\n",
        "plt.xlim(100,100000)\n",
        "plt.grid()\n",
        "plt.legend()\n",
        "plt.show()"
      ],
      "execution_count": null,
      "outputs": [
        {
          "output_type": "error",
          "ename": "NameError",
          "evalue": "ignored",
          "traceback": [
            "\u001b[0;31m---------------------------------------------------------------------------\u001b[0m",
            "\u001b[0;31mNameError\u001b[0m                                 Traceback (most recent call last)",
            "\u001b[0;32m<ipython-input-3-0d3c47503a68>\u001b[0m in \u001b[0;36m<module>\u001b[0;34m()\u001b[0m\n\u001b[1;32m      6\u001b[0m \u001b[0mp2\u001b[0m \u001b[0;34m=\u001b[0m \u001b[0;34m[\u001b[0m\u001b[0;34m]\u001b[0m\u001b[0;34m\u001b[0m\u001b[0;34m\u001b[0m\u001b[0m\n\u001b[1;32m      7\u001b[0m \u001b[0;32mfor\u001b[0m \u001b[0mi\u001b[0m \u001b[0;32min\u001b[0m \u001b[0mx\u001b[0m\u001b[0;34m:\u001b[0m\u001b[0;34m\u001b[0m\u001b[0;34m\u001b[0m\u001b[0m\n\u001b[0;32m----> 8\u001b[0;31m   \u001b[0mp2\u001b[0m\u001b[0;34m.\u001b[0m\u001b[0mappend\u001b[0m\u001b[0;34m(\u001b[0m\u001b[0mpi\u001b[0m\u001b[0;34m(\u001b[0m\u001b[0mi\u001b[0m\u001b[0;34m)\u001b[0m\u001b[0;34m)\u001b[0m\u001b[0;34m\u001b[0m\u001b[0;34m\u001b[0m\u001b[0m\n\u001b[0m\u001b[1;32m      9\u001b[0m \u001b[0mp3\u001b[0m \u001b[0;34m=\u001b[0m \u001b[0;36m1.25506\u001b[0m\u001b[0;34m*\u001b[0m\u001b[0mx\u001b[0m\u001b[0;34m/\u001b[0m\u001b[0mnp\u001b[0m\u001b[0;34m.\u001b[0m\u001b[0mlog\u001b[0m\u001b[0;34m(\u001b[0m\u001b[0mx\u001b[0m\u001b[0;34m)\u001b[0m\u001b[0;34m\u001b[0m\u001b[0;34m\u001b[0m\u001b[0m\n\u001b[1;32m     10\u001b[0m \u001b[0mfx\u001b[0m \u001b[0;34m=\u001b[0m \u001b[0;32mlambda\u001b[0m \u001b[0mt\u001b[0m\u001b[0;34m:\u001b[0m \u001b[0;36m1\u001b[0m\u001b[0;34m/\u001b[0m\u001b[0mnp\u001b[0m\u001b[0;34m.\u001b[0m\u001b[0mlog\u001b[0m\u001b[0;34m(\u001b[0m\u001b[0mt\u001b[0m\u001b[0;34m)\u001b[0m\u001b[0;34m\u001b[0m\u001b[0;34m\u001b[0m\u001b[0m\n",
            "\u001b[0;31mNameError\u001b[0m: name 'pi' is not defined"
          ]
        }
      ]
    },
    {
      "cell_type": "markdown",
      "metadata": {
        "id": "lE3PkL4NZBVG"
      },
      "source": [
        "<br>\n",
        "\n",
        "A brilliant mathematician created an incredible formula to approximate $\\pi{(x)}$ as below. \n",
        "$$R(x)=1+\\sum_{k=1}^{\\infty} {(\\text{ln} (x))^k \\over {k!k \\zeta(k+1)}}$$\n",
        "\n",
        "This called the _Riemann's R-function_. $\\zeta(s)$ is called the _Riemann zeta function_. You can search that zeta function which is implemented in scipy library. Also, You can find the factorial function in scipy library. Here are some examples for using those function."
      ]
    },
    {
      "cell_type": "code",
      "metadata": {
        "id": "bK_CMdl2rU3S",
        "colab": {
          "base_uri": "https://localhost:8080/",
          "height": 53
        },
        "outputId": "2c1a8f32-d78e-4552-90b1-343024ba73a4"
      },
      "source": [
        "from scipy.special import factorial,zeta\n",
        "print(factorial(3)) # print 3!\n",
        "print(zeta(3)) #print zeta(3)\n"
      ],
      "execution_count": null,
      "outputs": [
        {
          "output_type": "stream",
          "text": [
            "6.0\n",
            "1.2020569031595942\n"
          ],
          "name": "stdout"
        }
      ]
    },
    {
      "cell_type": "markdown",
      "metadata": {
        "id": "g4AQQ1BijeDv"
      },
      "source": [
        "_**(Problem 3)**_ Because of the memory limitations, you will not be able to calculate the above eqation with large $k$'s. So, we are going to limit $k$ to 100. Then you will approximate the following the function as below.\n",
        "\n",
        "$$\n",
        "R(x)=1+\\sum_{k=1}^{100} {(\\text{ln} (x))^k \\over {k!k \\zeta(k+1)}}\n",
        "$$\n",
        "\n",
        "Calculate R-function using scipy library and compare your results for $x=2$ to $x=1000$ with the original $\\pi{(x)}$. You are recommended to examine your approximation with different $k$'s."
      ]
    },
    {
      "cell_type": "markdown",
      "metadata": {
        "id": "sih5jRBEjowB"
      },
      "source": [
        ""
      ]
    },
    {
      "cell_type": "code",
      "metadata": {
        "id": "37HDvox0JT0U",
        "colab": {
          "base_uri": "https://localhost:8080/",
          "height": 282
        },
        "outputId": "259df2ef-78da-497d-9fd6-8b90dc117c8a"
      },
      "source": [
        "x = np.arange(2, 1001)\n",
        "p1 = []\n",
        "for i in x:\n",
        "  p1.append(pi(i))\n",
        "plt.plot(x,p1, label=r'$p_1=pi(x)$')\n",
        "p2 = []\n",
        "p3 = []\n",
        "p4 = []\n",
        "p5 = []\n",
        "\n",
        "def R(n,p):\n",
        "  k=np.arange(1,p+1)\n",
        "  sum=0\n",
        "  for j in k:\n",
        "   sum+=(np.log(n)**j)/(factorial(j)*j*zeta(j+1))\n",
        "  return sum\n",
        "for i in x:\n",
        "  p2.append(R(i,100))\n",
        "plt.plot(x,p2, label=r'$p_2=R(x) (k=100)$')\n",
        "for i in x:\n",
        "  p3.append(R(i,30))\n",
        "plt.plot(x,p3, label=r'$p_3=R(x) (k=30)$')\n",
        "for i in x:\n",
        "  p4.append(R(i,10))\n",
        "plt.plot(x,p4, label=r'$p_4=R(x) (k=10)$')\n",
        "for i in x:\n",
        "  p5.append(R(i,5))\n",
        "plt.plot(x,p5, label=r'$p_5=R(x) (k=5)$')\n",
        "plt.xlabel(r'$x$')\n",
        "plt.ylabel('Response')\n",
        "plt.xlim(2,1000)\n",
        "plt.grid()\n",
        "plt.legend()\n",
        "plt.show()\n"
      ],
      "execution_count": null,
      "outputs": [
        {
          "output_type": "display_data",
          "data": {
            "image/png": "[encoded data removed]",
            "text/plain": [
              "<Figure size 432x288 with 1 Axes>"
            ]
          },
          "metadata": {
            "tags": [],
            "needs_background": "light"
          }
        }
      ]
    },
    {
      "cell_type": "code",
      "metadata": {
        "id": "DOaVX27WU2hD",
        "colab": {
          "base_uri": "https://localhost:8080/",
          "height": 35
        },
        "outputId": "ea2e32c8-e566-4585-c669-f90d85378bc9"
      },
      "source": [
        "a = np.arange(10)\n",
        "print(a[0])"
      ],
      "execution_count": null,
      "outputs": [
        {
          "output_type": "stream",
          "text": [
            "0\n"
          ],
          "name": "stdout"
        }
      ]
    }
  ]
}