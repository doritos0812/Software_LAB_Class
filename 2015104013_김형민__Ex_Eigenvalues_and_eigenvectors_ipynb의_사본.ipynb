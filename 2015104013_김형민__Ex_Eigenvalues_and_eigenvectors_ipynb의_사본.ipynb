{
  "nbformat": 4,
  "nbformat_minor": 0,
  "metadata": {
    "colab": {
      "name": "2015104013_김형민__Ex_Eigenvalues_and_eigenvectors.ipynb의 사본",
      "provenance": [],
      "collapsed_sections": [],
      "include_colab_link": true
    },
    "kernelspec": {
      "display_name": "Python 3",
      "language": "python",
      "name": "python3"
    }
  },
  "cells": [
    {
      "cell_type": "markdown",
      "metadata": {
        "id": "view-in-github",
        "colab_type": "text"
      },
      "source": [
        "<a href=\"https://colab.research.google.com/github/doritos0812/Software_LAB_Class/blob/main/2015104013_%EA%B9%80%ED%98%95%EB%AF%BC__Ex_Eigenvalues_and_eigenvectors_ipynb%EC%9D%98_%EC%82%AC%EB%B3%B8.ipynb\" target=\"_parent\"><img src=\"https://colab.research.google.com/assets/colab-badge.svg\" alt=\"Open In Colab\"/></a>"
      ]
    },
    {
      "cell_type": "markdown",
      "metadata": {
        "id": "7gI-cY4cmMoZ"
      },
      "source": [
        "# Ex) Eigenvalues and eigenvectors of symmetric matrices"
      ]
    },
    {
      "cell_type": "markdown",
      "metadata": {
        "id": "2Y1dQ8F_mMob"
      },
      "source": [
        "__<div style=\"text-align: right\"> EE370: Software lab, Kyung Hee University. </div>__\n",
        "_<div style=\"text-align: right\"> Jong-Han Kim (jonghank@khu.ac.kr) </div>_"
      ]
    },
    {
      "cell_type": "markdown",
      "metadata": {
        "id": "lM3GudtSmMod"
      },
      "source": [
        "### Eigenvalues of real matrices\n",
        "\n",
        "In general, the eigenvalues of real square matrices are complex, which we will numerically check in this problem. \n",
        "\n",
        "1. First, generate a random matrix $A\\in\\mathbf{R}^{100\\times 100}$. Then check the eigenvalues of $A$ to see if they are real or complex. We will conclude that the eigenvalues of $A$ are all real if the imaginary part of the vector $\\lambda = (\\lambda_1, \\lambda_2, \\dots, \\lambda_{100})$, whose elements are the eigenvalues of $A$, has the 2-norm less than $10^{-12}$.\n",
        "아이겐 벨류 100개가 전부 허수인지, 실수도 있는지 체크. 1000번 실험해서 살펴보기.\n",
        "\n",
        "2. Repeat the above 1000 times. In how many instances, were the observed eigenvalues all real?\n",
        "\n",
        "100X100 해서 허수파트만 떼어네서 0인지 아닌지 체크.\n",
        "\n",
        "_Don't even think that these procedures (and the followings) could be used for mathematical proofs._"
      ]
    },
    {
      "cell_type": "code",
      "metadata": {
        "id": "moY2FidMmMog",
        "colab": {
          "base_uri": "https://localhost:8080/",
          "height": 34
        },
        "outputId": "a2677044-f21e-4d6b-882a-82d18e3f5c44"
      },
      "source": [
        "# your code here\n",
        "import numpy as np\n",
        "times=0\n",
        "count=0\n",
        "while times<1000:\n",
        "  A=np.random.rand(100,100)\n",
        "  D, Q = np.linalg.eig(A)\n",
        "  X=D.imag\n",
        "  \n",
        "  if np.linalg.norm(X) < 10e-12:\n",
        "    count+=1\n",
        "  times+=1\n",
        "print(\"There are \",count,\" times of observation\")"
      ],
      "execution_count": null,
      "outputs": [
        {
          "output_type": "stream",
          "text": [
            "There are  0  times of observation\n"
          ],
          "name": "stdout"
        }
      ]
    },
    {
      "cell_type": "markdown",
      "metadata": {
        "id": "_aJJ-WEgbtsZ"
      },
      "source": [
        "### Eigenvalues of real symmetric matrices\n",
        "\n",
        "In general, the eigenvalues of real square matrices are complex, however the eigenvalues of real symmetric matrices are always real. We will numerically check this here. \n",
        "\n",
        "1. First, generate a random symmetric matrix $A\\in\\mathbf{R}^{100\\times 100}$. Then check the eigenvalues of $A$ to see if they are real or complex. We will conclude that the eigenvalues of $A$ are all real if the imaginary part of the vector $\\lambda = (\\lambda_1, \\lambda_2, \\dots, \\lambda_{100})$, whose elements are the eigenvalues of $A$, has the 2-norm less than $10^{-12}$.\n",
        "A를 대칭인 랜덤 행렬로 만든다음에 똑같은 실험을 해보기.\n",
        "이번엔 전부 실수인지를 체크해보기\n",
        "\n",
        "2. Repeat the above 1000 times. In how many instances, were the observed eigenvalues all real?\n",
        "\n"
      ]
    },
    {
      "cell_type": "code",
      "metadata": {
        "id": "nyV3r7SkcEgx",
        "colab": {
          "base_uri": "https://localhost:8080/",
          "height": 35
        },
        "outputId": "c413785f-f294-4b20-d2dd-e2ff7bd2c198"
      },
      "source": [
        "# your code here\n",
        "import numpy as np\n",
        "times=0\n",
        "count=0\n",
        "while times<1000:\n",
        "  A=np.random.randn(100,100)\n",
        "  A = A + A.T  \n",
        "  D, Q = np.linalg.eig(A)\n",
        "  X=D.imag\n",
        "  if np.linalg.norm(X) < 10e-12:\n",
        "    count+=1\n",
        "  \n",
        "  times+=1\n",
        "print(\"There are \",count,\" times of observation\")"
      ],
      "execution_count": null,
      "outputs": [
        {
          "output_type": "stream",
          "text": [
            "There are  1000  times of observation\n"
          ],
          "name": "stdout"
        }
      ]
    },
    {
      "cell_type": "markdown",
      "metadata": {
        "id": "Y-j5uq-Bejt1"
      },
      "source": [
        "### Eigenvectors of real symmetric matrices\n",
        "\n",
        "The eigenvectors of real symmetric $n\\times n$ matrices form _orthonormal_ (orthogonal and normal) basis for $\\mathbf{R}^{n}$. In other words, suppose $A\\in\\mathbf{R}^{n\\times n}$ is symmetric, and $q_1, \\dots, q_n\\in\\mathbf{R}^n$ are $n$ eigenvectors of $A$, then for all $i,j\\in \\{1,2,\\dots,n\\}$,\n",
        "\n",
        "$$\n",
        "q_i^T q_j =\n",
        "\\begin{cases}\n",
        "0 & \\text{ if } i\\neq j \\\\\n",
        "1 & \\text{ if } i=j\n",
        "\\end{cases}\n",
        "$$\n",
        "\n",
        "Explain how you could check this computationally. Show that your answer makes sense, with a random instance with $n=1000$.\n",
        "\n",
        "아이겐벡터의 성질살피기. n이 1000일때 1000X1000인 랜덤 행렬을 만들고 아이겐벡터를 뽑아서 내적해보기."
      ]
    },
    {
      "cell_type": "code",
      "metadata": {
        "id": "wAAtVHKHejYT",
        "colab": {
          "base_uri": "https://localhost:8080/",
          "height": 35
        },
        "outputId": "5c5fb953-a081-4beb-de5a-f5e3acc08ddb"
      },
      "source": [
        "# your code here\n",
        "n=1000\n",
        "A = np.random.randn(n,n)\n",
        "A = A + A.T\n",
        "D, Q = np.linalg.eig(A)\n",
        "I=np.identity(n)\n",
        "R=Q@Q.T\n",
        "if np.linalg.norm(R-I)<10e-10:\n",
        "  print(\"Q[i]@Q[j].T is almost nxn identity matrix\")\n",
        "else:\n",
        "  print(\"Q[i]@Q[j].T is not almost nxn identity matrix\")"
      ],
      "execution_count": null,
      "outputs": [
        {
          "output_type": "stream",
          "text": [
            "Q[i]@Q[j].T is almost nxn identity matrix\n"
          ],
          "name": "stdout"
        }
      ]
    }
  ]
}