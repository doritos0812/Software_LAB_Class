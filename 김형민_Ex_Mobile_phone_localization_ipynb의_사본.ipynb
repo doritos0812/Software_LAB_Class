{
  "nbformat": 4,
  "nbformat_minor": 0,
  "metadata": {
    "colab": {
      "name": "김형민_Ex_Mobile_phone_localization.ipynb의 사본",
      "provenance": [],
      "collapsed_sections": [],
      "include_colab_link": true
    },
    "kernelspec": {
      "display_name": "Python 3",
      "language": "python",
      "name": "python3"
    }
  },
  "cells": [
    {
      "cell_type": "markdown",
      "metadata": {
        "id": "view-in-github",
        "colab_type": "text"
      },
      "source": [
        "<a href=\"https://colab.research.google.com/github/doritos0812/Software_LAB_Class/blob/main/%EA%B9%80%ED%98%95%EB%AF%BC_Ex_Mobile_phone_localization_ipynb%EC%9D%98_%EC%82%AC%EB%B3%B8.ipynb\" target=\"_parent\"><img src=\"https://colab.research.google.com/assets/colab-badge.svg\" alt=\"Open In Colab\"/></a>"
      ]
    },
    {
      "cell_type": "markdown",
      "metadata": {
        "id": "2fNa3bQYIowo"
      },
      "source": [
        "# Mobile phone localization\n",
        "$$\n",
        "\\newcommand{\\eg}{{\\it e.g.}}\n",
        "\\newcommand{\\ie}{{\\it i.e.}}\n",
        "\\newcommand{\\argmin}{\\operatornamewithlimits{argmin}}\n",
        "\\newcommand{\\mc}{\\mathcal}\n",
        "\\newcommand{\\mb}{\\mathbb}\n",
        "\\newcommand{\\mf}{\\mathbf}\n",
        "\\newcommand{\\minimize}{{\\text{minimize}}}\n",
        "\\newcommand{\\diag}{{\\text{diag}}}\n",
        "\\newcommand{\\cond}{{\\text{cond}}}\n",
        "\\newcommand{\\rank}{{\\text{rank }}}\n",
        "\\newcommand{\\range}{{\\mathcal{R}}}\n",
        "\\newcommand{\\null}{{\\mathcal{N}}}\n",
        "\\newcommand{\\tr}{{\\text{trace}}}\n",
        "\\newcommand{\\dom}{{\\text{dom}}}\n",
        "\\newcommand{\\dist}{{\\text{dist}}}\n",
        "\\newcommand{\\R}{\\mathbf{R}}\n",
        "\\newcommand{\\SM}{\\mathbf{S}}\n",
        "\\newcommand{\\ball}{\\mathcal{B}}\n",
        "\\newcommand{\\bmat}[1]{\\begin{bmatrix}#1\\end{bmatrix}}\n",
        "$$"
      ]
    },
    {
      "cell_type": "markdown",
      "metadata": {
        "id": "nvFGLD8OI15C"
      },
      "source": [
        "__<div style=\"text-align: right\"> EE370: Software lab, Kyung Hee University. </div>__\n",
        "_<div style=\"text-align: right\"> Jong-Han Kim (jonghank@khu.ac.kr) </div>_"
      ]
    },
    {
      "cell_type": "markdown",
      "metadata": {
        "id": "PqArZnGUIowq"
      },
      "source": [
        "Your mobile phone is constantly trying to keep track of where you are. At any given point in time, for all nearby locations, your phone stores a probability that you are in that location. \n",
        "\n",
        "<center>\n",
        "<img src=\"https://www.researchgate.net/profile/Tomas_Reznik2/publication/271757437/figure/fig2/AS:295084793843712@1447365105087/Conventional-method-of-cell-phone-localization.png\" width=\"600\">\n",
        "</center>\n",
        "\n",
        "Right now your phone believes that you are in one of the $100\\times 100$ discretized grid cells with some probabilities. Those probabilities are given in $P^{\\text{prior}}\\in\\R^{100\\times 100}$, where $P^{\\text{prior}}_{ij}$ is the probability that you are at $(i,j)$-th discretized cell. The matrix is shown below. \n"
      ]
    },
    {
      "cell_type": "code",
      "metadata": {
        "id": "mFCPJ8IUs1uX",
        "colab": {
          "base_uri": "https://localhost:8080/",
          "height": 408
        },
        "outputId": "46eb4a52-ac12-44df-f35e-ef597878fda6"
      },
      "source": [
        "import numpy as np\n",
        "import matplotlib.pyplot as plt\n",
        "\n",
        "N = 100\n",
        "P_prior = np.zeros((N,N))\n",
        "\n",
        "x_j = np.arange(N)\n",
        "x_i = x_j\n",
        "\n",
        "W = np.array([[200, 150], [150, 400]])*2\n",
        "inv_W = np.linalg.inv(W)\n",
        "b = np.array([65, 55])\n",
        "\n",
        "for i in range(N):\n",
        "  for j in range(N):\n",
        "    x = [x_j[j], x_i[i]]   \n",
        "    P_prior[i,j] = np.exp(-(x-b).T@inv_W@(x-b))\n",
        "    \n",
        "P_prior[:50,:45] = 0\n",
        "P_prior[80:,60:] = 0\n",
        "P_prior /= np.sum(P_prior)\n",
        "\n",
        "plt.figure(figsize=(8,6))\n",
        "plt.imshow(P_prior, cmap='gray')\n",
        "plt.colorbar()\n",
        "plt.xlabel(r'$j$-coordinate')\n",
        "plt.ylabel(r'$i$-coordinate')\n",
        "plt.title('Prior belief of location')\n",
        "plt.show()"
      ],
      "execution_count": null,
      "outputs": [
        {
          "output_type": "display_data",
          "data": {
            "image/png": "[encoded data removed]",
            "text/plain": [
              "<Figure size 576x432 with 2 Axes>"
            ]
          },
          "metadata": {
            "tags": [],
            "needs_background": "light"
          }
        }
      ]
    },
    {
      "cell_type": "markdown",
      "metadata": {
        "id": "8WfVKleZ1cL0"
      },
      "source": [
        "\n",
        "\n",
        "Small questions:\n",
        "\n",
        "1. What is the sum of all the probabilities, $\\sum_{i,j}P_{ij}$?\n"
      ]
    },
    {
      "cell_type": "code",
      "metadata": {
        "id": "JSepBZv2yf41",
        "colab": {
          "base_uri": "https://localhost:8080/",
          "height": 35
        },
        "outputId": "e916e5ee-ce67-4536-e235-3f4b83cab82e"
      },
      "source": [
        "print(np.sum(P_prior))"
      ],
      "execution_count": null,
      "outputs": [
        {
          "output_type": "stream",
          "text": [
            "0.9999999999999999\n"
          ],
          "name": "stdout"
        }
      ]
    },
    {
      "cell_type": "markdown",
      "metadata": {
        "id": "L9KrDes53A3y"
      },
      "source": [
        "\n",
        "So in the picture, the white locations (with large $P^\\text{prior}_{ij}$) are where you probably are , and the dark locations (with small $P^\\text{prior}_{ij}$) are where you are not likely to be. If someone asks for the user's position _now_, you will want to find the position with highest $P^\\text{prior}_{ij}$.\n",
        "\n",
        "2. What is the location at which the user is most likely to be?"
      ]
    },
    {
      "cell_type": "code",
      "metadata": {
        "id": "ORIeDAcNYau1",
        "colab": {
          "base_uri": "https://localhost:8080/",
          "height": 35
        },
        "outputId": "c7cae44b-ae34-494d-dc2a-4e960f81b310"
      },
      "source": [
        "MAX=0.0\n",
        "i_MAX=0\n",
        "j_MAX=0\n",
        "for i in range(N):\n",
        "  for j in range(N):\n",
        "    if P_prior[i,j]>MAX:\n",
        "      MAX=P_prior[i,j]\n",
        "      i_MAX=i\n",
        "      j_MAX=j\n",
        "print(\"The Max Probability is \",MAX,\"in (\",i_MAX,\",\",j_MAX,\")\")"
      ],
      "execution_count": null,
      "outputs": [
        {
          "output_type": "stream",
          "text": [
            "The Max Probability is  0.0007955196619445505 in ( 55 , 65 )\n"
          ],
          "name": "stdout"
        }
      ]
    },
    {
      "cell_type": "markdown",
      "metadata": {
        "id": "Bucmn-Pw4pGj"
      },
      "source": [
        "Now your phone connects to some known base towers and records two bars of signal. For each grid location $(i,j)$, you know the probability of observing two bars from this particular tower, given that the mobile phone is in location $(i,j)$. That is, you know $P(\\text{observe two bar} \\mid \\text{you are at} (i,j))$. We denote this probability by $P^\\text{observe}_{ij}$, and the matrix $P^\\text{observe}$ is shown below. Note that this value is based on knowledge of the dynamics of this particular base tower and stochasticity of signal strength. "
      ]
    },
    {
      "cell_type": "code",
      "metadata": {
        "id": "3Fv7dKtj_dOO",
        "colab": {
          "base_uri": "https://localhost:8080/",
          "height": 408
        },
        "outputId": "2c80e687-1c83-4413-c64e-d807a1c30fa1"
      },
      "source": [
        "P_observe = np.zeros((N,N))\n",
        "\n",
        "for i in range(N):\n",
        "  for j in range(N):\n",
        "    dist1 = np.linalg.norm([x_j[j]-80, x_i[i]-0])\n",
        "    prob1 = np.exp(-(dist1-50)**2/200)*0.9\n",
        "    dist2 = (x_j[j]+x_i[i])\n",
        "    prob2 = np.exp(-(dist2-50)**2/1000)*0.5\n",
        "    P_observe[i,j] = np.max([prob1, prob2])\n",
        "\n",
        "plt.figure(figsize=(8,6))\n",
        "plt.imshow(P_observe, cmap='gray')\n",
        "plt.colorbar()\n",
        "plt.xlabel(r'$j$-coordinate')\n",
        "plt.ylabel(r'$i$-coordinate')\n",
        "plt.title('Probability of observing two bars')\n",
        "plt.show()"
      ],
      "execution_count": null,
      "outputs": [
        {
          "output_type": "display_data",
          "data": {
            "image/png": "[encoded data removed]",
            "text/plain": [
              "<Figure size 576x432 with 2 Axes>"
            ]
          },
          "metadata": {
            "tags": [],
            "needs_background": "light"
          }
        }
      ]
    },
    {
      "cell_type": "markdown",
      "metadata": {
        "id": "KggTlmZ26c8G"
      },
      "source": [
        "\n",
        "3. For each of the 10000 location positions, calculate and plot the new probability that the user is in each location given the base tower observation (the two bar observation). Recall the Bayes' theorem giving\n",
        "\n",
        "\\begin{align*}\n",
        "  P\\left(\\text{being at } (i,j) \\mid \\text{observing two bars}\\right)\n",
        "  &= \\frac{P\\left(\\text{observing two bars} \\mid \\text{being at } (i,j) \\right)P(\\text{being at }ij)}{P(\\text{observing two bars})}\\\\\n",
        "  &= \\frac{P(\\text{observing two bars} \\mid \\text{being at } ij )P(\\text{being at }ij)}{\\sum_{i,j}P(\\text{observing two bars} \\mid \\text{being at } ij )P(\\text{being at }ij)}\\\\\n",
        "\\end{align*}"
      ]
    },
    {
      "cell_type": "code",
      "metadata": {
        "id": "P8RgKdnUwSNK",
        "colab": {
          "base_uri": "https://localhost:8080/",
          "height": 408
        },
        "outputId": "c778c569-7123-4a0c-8b2c-011210edf980"
      },
      "source": [
        "SUM=np.sum(P_observe*P_prior)\n",
        "P_observe_2bars = np.zeros((N,N))\n",
        "for i in range(N):\n",
        "  for j in range(N):\n",
        "    P_observe_2bars[i,j]=(P_observe[i,j]*P_prior[i,j])/SUM\n",
        "\n",
        "plt.figure(figsize=(8,6))\n",
        "plt.imshow(P_observe_2bars, cmap='gray')\n",
        "plt.colorbar()\n",
        "plt.xlabel(r'$j$-coordinate')\n",
        "plt.ylabel(r'$i$-coordinate')\n",
        "plt.title('Probability of observing two bars')\n",
        "plt.show()\n"
      ],
      "execution_count": null,
      "outputs": [
        {
          "output_type": "display_data",
          "data": {
            "image/png": "[encoded data removed]",
            "text/plain": [
              "<Figure size 576x432 with 2 Axes>"
            ]
          },
          "metadata": {
            "tags": [],
            "needs_background": "light"
          }
        }
      ]
    },
    {
      "cell_type": "markdown",
      "metadata": {
        "id": "N1b_jThZs1A4"
      },
      "source": [
        "4. Now someone _again_ asks for the user's position. What is your updated answer?\n"
      ]
    },
    {
      "cell_type": "code",
      "metadata": {
        "id": "ABPoHpOaQBTs",
        "colab": {
          "base_uri": "https://localhost:8080/",
          "height": 35
        },
        "outputId": "9bff51cb-dea1-472b-b70e-c93d332719a1"
      },
      "source": [
        "MAX=0.0\n",
        "i_MAX=0\n",
        "j_MAX=0\n",
        "for i in range(N):\n",
        "  for j in range(N):\n",
        "    if P_observe_2bars[i,j]>MAX:\n",
        "      MAX=P_observe_2bars[i,j]\n",
        "      i_MAX=i\n",
        "      j_MAX=j\n",
        "print(\"The Max Probability is \",MAX,\"in (\",i_MAX,\",\",j_MAX,\")\")\n"
      ],
      "execution_count": null,
      "outputs": [
        {
          "output_type": "stream",
          "text": [
            "The Max Probability is  0.0014310475538238123 in ( 49 , 64 )\n"
          ],
          "name": "stdout"
        }
      ]
    },
    {
      "cell_type": "markdown",
      "metadata": {
        "id": "Nu1YZpYTnCNN"
      },
      "source": [
        "---\n",
        "<div style=\"text-align: right\"> \n",
        "Contents partially taken from http://web.stanford.edu/class/cs109\n",
        "</div>\n",
        "\n",
        "\n",
        "\n"
      ]
    }
  ]
}