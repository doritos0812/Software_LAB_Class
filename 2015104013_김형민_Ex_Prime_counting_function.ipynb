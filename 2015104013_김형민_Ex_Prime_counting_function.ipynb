{
  "nbformat": 4,
  "nbformat_minor": 0,
  "metadata": {
    "colab": {
      "name": "2015104013_김형민_Ex_Prime_counting_function.ipynb",
      "provenance": [],
      "collapsed_sections": [],
      "include_colab_link": true
    },
    "kernelspec": {
      "display_name": "Python 3",
      "language": "python",
      "name": "python3"
    }
  },
  "cells": [
    {
      "cell_type": "markdown",
      "metadata": {
        "id": "view-in-github",
        "colab_type": "text"
      },
      "source": [
        "<a href=\"https://colab.research.google.com/github/doritos0812/Software_LAB_Class/blob/main/2015104013_%EA%B9%80%ED%98%95%EB%AF%BC_Ex_Prime_counting_function.ipynb\" target=\"_parent\"><img src=\"https://colab.research.google.com/assets/colab-badge.svg\" alt=\"Open In Colab\"/></a>"
      ]
    },
    {
      "cell_type": "markdown",
      "metadata": {
        "id": "fk-IfVHq98dJ"
      },
      "source": [
        "# Ex) Prime counting function"
      ]
    },
    {
      "cell_type": "markdown",
      "metadata": {
        "id": "-yURUfOt9-FT"
      },
      "source": [
        "__<div style=\"text-align: right\"> EE370: Software lab, Kyung Hee University. </div>__\n",
        "_<div style=\"text-align: right\"> Jong-Han Kim (jonghank@khu.ac.kr) </div>_"
      ]
    },
    {
      "cell_type": "markdown",
      "metadata": {
        "id": "2zulqqFg9-am"
      },
      "source": [
        "The prime-counting function is the function counting the number of prime numbers less than or equal to some positive integet $n$. We usually call the function by $\\pi(n)$.\n",
        "\n",
        "In this problem, you will be developing a code that computes $\\pi(n)$.\n",
        "First write a function Write a function `Eratosthenes(n)` that lists all the prime numbers less than or equal to `n`, by using the process of the Sieve of Eratosthenes as follows.\n",
        "\n",
        "1. Create a list of consecutive integers from $2$ through $n$: ($2, 3, 4, \\dots, n$). \n",
        "2. Initially, let $p$ equal $2$, the smallest prime number.\n",
        "3. Enumerate the multiples of $p$ by counting in increments of $p$ from $2p$ to $n$, and mark them in the list (these will be $2p, 3p, 4p,\\dots$; the $p$ itself should not be marked).\n",
        "4. Find the first number greater than $p$ in the list that is not marked. If there was no such number, stop. Otherwise, let $p$ now equal this new number (which is the next prime), and repeat from step 3.\n",
        "5. The algorithm terminates when $p^2$ is greater than $n$. Then the numbers remaining not marked in the list are all the primes below $n$.\n",
        "\n",
        "Once you've found the list of all the prime numbers less than or equal to $n$, you will be able to easily compute $\\pi(n)$.\n",
        "\n",
        "What is $\\pi(1000000)$, the number of the prime numbers less than one million?"
      ]
    },
    {
      "cell_type": "code",
      "metadata": {
        "id": "bK_CMdl2rU3S",
        "colab": {
          "base_uri": "https://localhost:8080/",
          "height": 35
        },
        "outputId": "aa5f9890-8431-4dd8-b2ad-b0a045fa5556"
      },
      "source": [
        "def Eratosthenes(n):\n",
        "  a=[True for i in range(n+1)]\n",
        "  p=2\n",
        "  count=0\n",
        "  while (p*p<=n):\n",
        "    if (a[p]== True ):\n",
        "      for i in range(2*p,n+1,p):\n",
        "        a[i]=False\n",
        "    p+=1\n",
        "  a[0]=False\n",
        "  a[1]=False\n",
        "  for i in a:\n",
        "    if (i==True):\n",
        "      count+=1\n",
        "  print(count)\n",
        "Eratosthenes(1000000)"
      ],
      "execution_count": null,
      "outputs": [
        {
          "output_type": "stream",
          "text": [
            "78498\n"
          ],
          "name": "stdout"
        }
      ]
    },
    {
      "cell_type": "code",
      "metadata": {
        "id": "3WIlk3cf3ZCa",
        "colab": {
          "base_uri": "https://localhost:8080/",
          "height": 34
        },
        "outputId": "12fc369f-3719-4fbf-dd3c-0ffb0ed41f40"
      },
      "source": [
        "a = [True for i in range(8)]\n",
        "a"
      ],
      "execution_count": null,
      "outputs": [
        {
          "output_type": "execute_result",
          "data": {
            "text/plain": [
              "[True, True, True, True, True, True, True, True]"
            ]
          },
          "metadata": {
            "tags": []
          },
          "execution_count": 1
        }
      ]
    }
  ]
}